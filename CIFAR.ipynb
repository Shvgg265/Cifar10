{
 "cells": [
  {
   "cell_type": "code",
   "execution_count": 0,
   "metadata": {
    "colab": {},
    "colab_type": "code",
    "id": "El1JPYqkYEQI"
   },
   "outputs": [],
   "source": [
    "!pip install tensorflow-gpu==2.0.0"
   ]
  },
  {
   "cell_type": "code",
   "execution_count": 11,
   "metadata": {
    "colab": {
     "base_uri": "https://localhost:8080/",
     "height": 35
    },
    "colab_type": "code",
    "id": "cyakxtviYPuM",
    "outputId": "4f97d73c-fdc7-4684-f85d-a6a04c5bd4cb"
   },
   "outputs": [
    {
     "data": {
      "text/plain": [
       "'2.0.0'"
      ]
     },
     "execution_count": 11,
     "metadata": {
      "tags": []
     },
     "output_type": "execute_result"
    }
   ],
   "source": [
    "# Importing the libraries\n",
    "\n",
    "import numpy as np\n",
    "import matplotlib.pyplot as plt\n",
    "import tensorflow as tf\n",
    "from tensorflow.keras.layers import Conv2D, Dense, Input, Flatten, Dropout, GlobalMaxPooling2D, MaxPooling2D, BatchNormalization\n",
    "from tensorflow.keras.models import Model\n",
    "tf.__version__"
   ]
  },
  {
   "cell_type": "code",
   "execution_count": 0,
   "metadata": {
    "colab": {},
    "colab_type": "code",
    "id": "4SDdKZzZYz4n"
   },
   "outputs": [],
   "source": [
    "# Load the dataset\n",
    "\n",
    "cifar10 = tf.keras.datasets.cifar10"
   ]
  },
  {
   "cell_type": "code",
   "execution_count": 13,
   "metadata": {
    "colab": {
     "base_uri": "https://localhost:8080/",
     "height": 35
    },
    "colab_type": "code",
    "id": "P99q0OdAZhbk",
    "outputId": "31425b97-498b-4901-a844-e4efc29e373a"
   },
   "outputs": [
    {
     "name": "stdout",
     "output_type": "stream",
     "text": [
      "(50000, 32, 32, 3) (50000, 1) (10000, 32, 32, 3) (10000, 1)\n"
     ]
    }
   ],
   "source": [
    "# Divide it into train and test data\n",
    "\n",
    "(X_train, Y_train), (X_test, Y_test) = cifar10.load_data()\n",
    "print(X_train.shape, Y_train.shape, X_test.shape, Y_test.shape)"
   ]
  },
  {
   "cell_type": "code",
   "execution_count": 14,
   "metadata": {
    "colab": {
     "base_uri": "https://localhost:8080/",
     "height": 35
    },
    "colab_type": "code",
    "id": "L7dGhiFZZ42s",
    "outputId": "83424bce-03ef-409c-8422-9d6a14a22a99"
   },
   "outputs": [
    {
     "name": "stdout",
     "output_type": "stream",
     "text": [
      "(50000, 32, 32, 3) (50000,) (10000, 32, 32, 3) (10000,)\n"
     ]
    }
   ],
   "source": [
    "# Preprocess the input values of X by dividing them all with max value i.e. 255.0\n",
    "X_train, X_test = X_train / 255.0, X_test / 255.0\n",
    "\n",
    "# Change the shape of Y from (A, 1) to (A) as output layer is linear\n",
    "Y_train, Y_test = Y_train.flatten(), Y_test.flatten()\n",
    "\n",
    "print(X_train.shape, Y_train.shape, X_test.shape, Y_test.shape)"
   ]
  },
  {
   "cell_type": "code",
   "execution_count": 15,
   "metadata": {
    "colab": {
     "base_uri": "https://localhost:8080/",
     "height": 35
    },
    "colab_type": "code",
    "id": "rAzJQsRaaTCC",
    "outputId": "a2649acc-147e-45db-fc04-b1e63a076c40"
   },
   "outputs": [
    {
     "name": "stdout",
     "output_type": "stream",
     "text": [
      "No. of LABELS:  10\n"
     ]
    }
   ],
   "source": [
    "# number pf labels of Y are\n",
    "K = len(set(Y_train))\n",
    "print('No. of LABELS: ', K)"
   ]
  },
  {
   "cell_type": "code",
   "execution_count": 0,
   "metadata": {
    "colab": {},
    "colab_type": "code",
    "id": "RaQkIBctbCKB"
   },
   "outputs": [],
   "source": [
    "# Building the model\n",
    "i = Input(shape = X_train[0].shape)\n",
    "\n",
    "#x = Conv2D(32, (3, 3), strides = 2, activation = 'relu')(i)\n",
    "#x = Conv2D(64, (3, 3), strides = 2, activation = 'relu')(x)\n",
    "#x = Conv2D(128, (3, 3), strides = 2, activation = 'relu')(x)\n",
    "\n",
    "x = Conv2D(32, (3, 3), activation = 'relu', padding = 'same')(i)\n",
    "x = BatchNormalization()(x)\n",
    "x = Conv2D(32, (3, 3), activation ='relu', padding = 'same')(x)\n",
    "x = BatchNormalization()(x)\n",
    "x = MaxPooling2D((2, 2))(x)\n",
    "\n",
    "x = Conv2D(64, (3, 3), activation = 'relu', padding = 'same')(x)\n",
    "x = BatchNormalization()(x)\n",
    "x = Conv2D(64, (3, 3), activation ='relu', padding = 'same')(x)\n",
    "x = BatchNormalization()(x)\n",
    "x = MaxPooling2D((2, 2))(x)\n",
    "\n",
    "x = Conv2D(128, (3, 3), activation = 'relu', padding = 'same')(x)\n",
    "x = BatchNormalization()(x)\n",
    "x = Conv2D(128, (3, 3), activation ='relu', padding = 'same')(x)\n",
    "x = BatchNormalization()(x)\n",
    "x = MaxPooling2D((2, 2))(x)\n",
    "\n",
    "x = Flatten()(x)\n",
    "x = Dropout(0.2)(x)\n",
    "x = Dense(1024, activation = 'relu')(x)\n",
    "x = Dropout(0.2)(x)\n",
    "x = Dense(K, activation = 'softmax')(x)\n",
    "\n",
    "model = Model(i, x)"
   ]
  },
  {
   "cell_type": "code",
   "execution_count": 0,
   "metadata": {
    "colab": {},
    "colab_type": "code",
    "id": "__UnQNThcAN6"
   },
   "outputs": [],
   "source": [
    "# Compiling the model\n",
    "\n",
    "model.compile(optimizer = tf.keras.optimizers.Adam(),\n",
    "              loss = 'sparse_categorical_crossentropy',\n",
    "              metrics = ['accuracy'])"
   ]
  },
  {
   "cell_type": "markdown",
   "metadata": {
    "colab_type": "text",
    "id": "hIopntzJh1u-"
   },
   "source": [
    "## Fit the model without Data Augmentation"
   ]
  },
  {
   "cell_type": "code",
   "execution_count": 8,
   "metadata": {
    "colab": {
     "base_uri": "https://localhost:8080/",
     "height": 1000
    },
    "colab_type": "code",
    "id": "_b3_-7ercabe",
    "outputId": "6ead46de-d833-41eb-b37c-134c47da7dbb"
   },
   "outputs": [
    {
     "name": "stdout",
     "output_type": "stream",
     "text": [
      "Train on 50000 samples, validate on 10000 samples\n",
      "Epoch 1/50\n",
      "50000/50000 [==============================] - 20s 398us/sample - loss: 1.2932 - accuracy: 0.5500 - val_loss: 1.1935 - val_accuracy: 0.5984\n",
      "Epoch 2/50\n",
      "50000/50000 [==============================] - 12s 233us/sample - loss: 0.8396 - accuracy: 0.7107 - val_loss: 1.0151 - val_accuracy: 0.6476\n",
      "Epoch 3/50\n",
      "50000/50000 [==============================] - 12s 235us/sample - loss: 0.6866 - accuracy: 0.7649 - val_loss: 0.7618 - val_accuracy: 0.7457\n",
      "Epoch 4/50\n",
      "50000/50000 [==============================] - 12s 237us/sample - loss: 0.5794 - accuracy: 0.8005 - val_loss: 0.7638 - val_accuracy: 0.7427\n",
      "Epoch 5/50\n",
      "50000/50000 [==============================] - 12s 238us/sample - loss: 0.4934 - accuracy: 0.8322 - val_loss: 0.6244 - val_accuracy: 0.7937\n",
      "Epoch 6/50\n",
      "50000/50000 [==============================] - 12s 234us/sample - loss: 0.4138 - accuracy: 0.8573 - val_loss: 0.5994 - val_accuracy: 0.8146\n",
      "Epoch 7/50\n",
      "50000/50000 [==============================] - 12s 234us/sample - loss: 0.3553 - accuracy: 0.8774 - val_loss: 0.6734 - val_accuracy: 0.7867\n",
      "Epoch 8/50\n",
      "50000/50000 [==============================] - 12s 234us/sample - loss: 0.3010 - accuracy: 0.8960 - val_loss: 0.6409 - val_accuracy: 0.8045\n",
      "Epoch 9/50\n",
      "50000/50000 [==============================] - 12s 231us/sample - loss: 0.2610 - accuracy: 0.9106 - val_loss: 0.6414 - val_accuracy: 0.8169\n",
      "Epoch 10/50\n",
      "50000/50000 [==============================] - 12s 233us/sample - loss: 0.2203 - accuracy: 0.9230 - val_loss: 0.6435 - val_accuracy: 0.8148\n",
      "Epoch 11/50\n",
      "50000/50000 [==============================] - 12s 233us/sample - loss: 0.1914 - accuracy: 0.9347 - val_loss: 0.6562 - val_accuracy: 0.8155\n",
      "Epoch 12/50\n",
      "50000/50000 [==============================] - 12s 233us/sample - loss: 0.1785 - accuracy: 0.9392 - val_loss: 0.6564 - val_accuracy: 0.8260\n",
      "Epoch 13/50\n",
      "50000/50000 [==============================] - 12s 233us/sample - loss: 0.1635 - accuracy: 0.9446 - val_loss: 0.6532 - val_accuracy: 0.8267\n",
      "Epoch 14/50\n",
      "50000/50000 [==============================] - 12s 232us/sample - loss: 0.1456 - accuracy: 0.9507 - val_loss: 0.7732 - val_accuracy: 0.8079\n",
      "Epoch 15/50\n",
      "50000/50000 [==============================] - 12s 231us/sample - loss: 0.1343 - accuracy: 0.9554 - val_loss: 0.7308 - val_accuracy: 0.8157\n",
      "Epoch 16/50\n",
      "50000/50000 [==============================] - 12s 231us/sample - loss: 0.1193 - accuracy: 0.9595 - val_loss: 0.6639 - val_accuracy: 0.8196\n",
      "Epoch 17/50\n",
      "50000/50000 [==============================] - 12s 234us/sample - loss: 0.1169 - accuracy: 0.9606 - val_loss: 0.7869 - val_accuracy: 0.8214\n",
      "Epoch 18/50\n",
      "50000/50000 [==============================] - 12s 234us/sample - loss: 0.1097 - accuracy: 0.9639 - val_loss: 0.8041 - val_accuracy: 0.8320\n",
      "Epoch 19/50\n",
      "50000/50000 [==============================] - 12s 233us/sample - loss: 0.1026 - accuracy: 0.9655 - val_loss: 0.8030 - val_accuracy: 0.8207\n",
      "Epoch 20/50\n",
      "50000/50000 [==============================] - 12s 232us/sample - loss: 0.0960 - accuracy: 0.9687 - val_loss: 0.7571 - val_accuracy: 0.8330\n",
      "Epoch 21/50\n",
      "50000/50000 [==============================] - 12s 231us/sample - loss: 0.0929 - accuracy: 0.9699 - val_loss: 0.8571 - val_accuracy: 0.8095\n",
      "Epoch 22/50\n",
      "50000/50000 [==============================] - 12s 232us/sample - loss: 0.0851 - accuracy: 0.9722 - val_loss: 0.7638 - val_accuracy: 0.8312\n",
      "Epoch 23/50\n",
      "50000/50000 [==============================] - 12s 233us/sample - loss: 0.0812 - accuracy: 0.9728 - val_loss: 0.7380 - val_accuracy: 0.8307\n",
      "Epoch 24/50\n",
      "50000/50000 [==============================] - 12s 232us/sample - loss: 0.0852 - accuracy: 0.9721 - val_loss: 0.7643 - val_accuracy: 0.8316\n",
      "Epoch 25/50\n",
      "50000/50000 [==============================] - 12s 233us/sample - loss: 0.0740 - accuracy: 0.9760 - val_loss: 0.8399 - val_accuracy: 0.8298\n",
      "Epoch 26/50\n",
      "50000/50000 [==============================] - 12s 232us/sample - loss: 0.0739 - accuracy: 0.9756 - val_loss: 0.8745 - val_accuracy: 0.8264\n",
      "Epoch 27/50\n",
      "50000/50000 [==============================] - 12s 234us/sample - loss: 0.0712 - accuracy: 0.9768 - val_loss: 0.7938 - val_accuracy: 0.8334\n",
      "Epoch 28/50\n",
      "50000/50000 [==============================] - 12s 233us/sample - loss: 0.0686 - accuracy: 0.9776 - val_loss: 0.7760 - val_accuracy: 0.8424\n",
      "Epoch 29/50\n",
      "50000/50000 [==============================] - 12s 231us/sample - loss: 0.0666 - accuracy: 0.9773 - val_loss: 0.7751 - val_accuracy: 0.8391\n",
      "Epoch 30/50\n",
      "50000/50000 [==============================] - 12s 231us/sample - loss: 0.0661 - accuracy: 0.9785 - val_loss: 0.8843 - val_accuracy: 0.8290\n",
      "Epoch 31/50\n",
      "50000/50000 [==============================] - 12s 240us/sample - loss: 0.0604 - accuracy: 0.9799 - val_loss: 0.7804 - val_accuracy: 0.8351\n",
      "Epoch 32/50\n",
      "50000/50000 [==============================] - 12s 233us/sample - loss: 0.0577 - accuracy: 0.9811 - val_loss: 0.8112 - val_accuracy: 0.8430\n",
      "Epoch 33/50\n",
      "50000/50000 [==============================] - 12s 233us/sample - loss: 0.0590 - accuracy: 0.9809 - val_loss: 0.7456 - val_accuracy: 0.8360\n",
      "Epoch 34/50\n",
      "50000/50000 [==============================] - 12s 232us/sample - loss: 0.0562 - accuracy: 0.9816 - val_loss: 0.8718 - val_accuracy: 0.8361\n",
      "Epoch 35/50\n",
      "50000/50000 [==============================] - 12s 231us/sample - loss: 0.0564 - accuracy: 0.9815 - val_loss: 0.8547 - val_accuracy: 0.8401\n",
      "Epoch 36/50\n",
      "50000/50000 [==============================] - 12s 232us/sample - loss: 0.0589 - accuracy: 0.9803 - val_loss: 0.8496 - val_accuracy: 0.8349\n",
      "Epoch 37/50\n",
      "50000/50000 [==============================] - 11s 230us/sample - loss: 0.0452 - accuracy: 0.9850 - val_loss: 0.9491 - val_accuracy: 0.8288\n",
      "Epoch 38/50\n",
      "50000/50000 [==============================] - 12s 232us/sample - loss: 0.0492 - accuracy: 0.9841 - val_loss: 0.8615 - val_accuracy: 0.8342\n",
      "Epoch 39/50\n",
      "50000/50000 [==============================] - 12s 234us/sample - loss: 0.0501 - accuracy: 0.9840 - val_loss: 0.8305 - val_accuracy: 0.8356\n",
      "Epoch 40/50\n",
      "50000/50000 [==============================] - 11s 229us/sample - loss: 0.0492 - accuracy: 0.9839 - val_loss: 0.9590 - val_accuracy: 0.8166\n",
      "Epoch 41/50\n",
      "50000/50000 [==============================] - 12s 232us/sample - loss: 0.0519 - accuracy: 0.9831 - val_loss: 0.7877 - val_accuracy: 0.8459\n",
      "Epoch 42/50\n",
      "50000/50000 [==============================] - 12s 233us/sample - loss: 0.0424 - accuracy: 0.9864 - val_loss: 0.8965 - val_accuracy: 0.8436\n",
      "Epoch 43/50\n",
      "50000/50000 [==============================] - 12s 231us/sample - loss: 0.0473 - accuracy: 0.9849 - val_loss: 0.9166 - val_accuracy: 0.8315\n",
      "Epoch 44/50\n",
      "50000/50000 [==============================] - 12s 235us/sample - loss: 0.0482 - accuracy: 0.9844 - val_loss: 0.9177 - val_accuracy: 0.8401\n",
      "Epoch 45/50\n",
      "50000/50000 [==============================] - 12s 231us/sample - loss: 0.0452 - accuracy: 0.9860 - val_loss: 0.9171 - val_accuracy: 0.8371\n",
      "Epoch 46/50\n",
      "50000/50000 [==============================] - 12s 233us/sample - loss: 0.0425 - accuracy: 0.9866 - val_loss: 0.8041 - val_accuracy: 0.8380\n",
      "Epoch 47/50\n",
      "50000/50000 [==============================] - 12s 231us/sample - loss: 0.0406 - accuracy: 0.9877 - val_loss: 0.8170 - val_accuracy: 0.8383\n",
      "Epoch 48/50\n",
      "50000/50000 [==============================] - 12s 231us/sample - loss: 0.0412 - accuracy: 0.9872 - val_loss: 0.9279 - val_accuracy: 0.8384\n",
      "Epoch 49/50\n",
      "50000/50000 [==============================] - 12s 233us/sample - loss: 0.0449 - accuracy: 0.9861 - val_loss: 0.8756 - val_accuracy: 0.8406\n",
      "Epoch 50/50\n",
      "50000/50000 [==============================] - 12s 231us/sample - loss: 0.0387 - accuracy: 0.9874 - val_loss: 0.9452 - val_accuracy: 0.8398\n"
     ]
    }
   ],
   "source": [
    "# Fit the model\n",
    "\n",
    "r = model.fit(X_train, Y_train, validation_data = (X_test, Y_test), epochs = 50)"
   ]
  },
  {
   "cell_type": "code",
   "execution_count": 9,
   "metadata": {
    "colab": {
     "base_uri": "https://localhost:8080/",
     "height": 283
    },
    "colab_type": "code",
    "id": "UMI5D448cmhR",
    "outputId": "ae721a6e-fecd-48b7-b0ff-2f64fc6703e9"
   },
   "outputs": [
    {
     "data": {
      "text/plain": [
       "<matplotlib.legend.Legend at 0x7f5255fd5860>"
      ]
     },
     "execution_count": 9,
     "metadata": {
      "tags": []
     },
     "output_type": "execute_result"
    },
    {
     "data": {
      "image/png": "[encoded data removed]",
      "text/plain": [
       "<Figure size 432x288 with 1 Axes>"
      ]
     },
     "metadata": {
      "tags": []
     },
     "output_type": "display_data"
    }
   ],
   "source": [
    "# Plot of loss per iteration\n",
    "\n",
    "plt.plot(r.history['loss'], label = 'loss')\n",
    "plt.plot(r.history['val_loss'], label = 'val_loss')\n",
    "plt.legend()"
   ]
  },
  {
   "cell_type": "code",
   "execution_count": 10,
   "metadata": {
    "colab": {
     "base_uri": "https://localhost:8080/",
     "height": 283
    },
    "colab_type": "code",
    "id": "fdC-bYzpdO6J",
    "outputId": "3c8fc1c4-ab59-4f5d-b59e-19226840214d"
   },
   "outputs": [
    {
     "data": {
      "text/plain": [
       "<matplotlib.legend.Legend at 0x7f5255ab44a8>"
      ]
     },
     "execution_count": 10,
     "metadata": {
      "tags": []
     },
     "output_type": "execute_result"
    },
    {
     "data": {
      "image/png": "[encoded data removed]",
      "text/plain": [
       "<Figure size 432x288 with 1 Axes>"
      ]
     },
     "metadata": {
      "tags": []
     },
     "output_type": "display_data"
    }
   ],
   "source": [
    "# Plot of accuracy per iteration\n",
    "\n",
    "plt.plot(r.history['accuracy'], label = 'accuracy')\n",
    "plt.plot(r.history['val_accuracy'], label = 'val_accuracy')\n",
    "plt.legend()"
   ]
  },
  {
   "cell_type": "markdown",
   "metadata": {
    "colab_type": "text",
    "id": "RA5-lNE0hn1k"
   },
   "source": [
    "## Fit the model with Data Augmentation"
   ]
  },
  {
   "cell_type": "code",
   "execution_count": 19,
   "metadata": {
    "colab": {
     "base_uri": "https://localhost:8080/",
     "height": 1000
    },
    "colab_type": "code",
    "id": "enmsvOnOdYvp",
    "outputId": "753628c7-b5da-41b7-ed0f-9f2e6300178e"
   },
   "outputs": [
    {
     "name": "stdout",
     "output_type": "stream",
     "text": [
      "Epoch 1/50\n",
      "1562/1562 [==============================] - 102s 65ms/step - loss: 1.4793 - accuracy: 0.4875 - val_loss: 1.1769 - val_accuracy: 0.5998\n",
      "Epoch 2/50\n",
      "1562/1562 [==============================] - 101s 65ms/step - loss: 1.0015 - accuracy: 0.6487 - val_loss: 1.0147 - val_accuracy: 0.6663\n",
      "Epoch 3/50\n",
      "1562/1562 [==============================] - 101s 65ms/step - loss: 0.8491 - accuracy: 0.7085 - val_loss: 1.0027 - val_accuracy: 0.6686\n",
      "Epoch 4/50\n",
      "1562/1562 [==============================] - 100s 64ms/step - loss: 0.7621 - accuracy: 0.7381 - val_loss: 0.7336 - val_accuracy: 0.7573\n",
      "Epoch 5/50\n",
      "1562/1562 [==============================] - 100s 64ms/step - loss: 0.6907 - accuracy: 0.7634 - val_loss: 0.6171 - val_accuracy: 0.7928\n",
      "Epoch 6/50\n",
      "1562/1562 [==============================] - 100s 64ms/step - loss: 0.6341 - accuracy: 0.7844 - val_loss: 0.7415 - val_accuracy: 0.7524\n",
      "Epoch 7/50\n",
      "1562/1562 [==============================] - 100s 64ms/step - loss: 0.5952 - accuracy: 0.7962 - val_loss: 0.7458 - val_accuracy: 0.7609\n",
      "Epoch 8/50\n",
      "1562/1562 [==============================] - 100s 64ms/step - loss: 0.5556 - accuracy: 0.8111 - val_loss: 0.7200 - val_accuracy: 0.7636\n",
      "Epoch 9/50\n",
      "1562/1562 [==============================] - 100s 64ms/step - loss: 0.5288 - accuracy: 0.8215 - val_loss: 0.5475 - val_accuracy: 0.8140\n",
      "Epoch 10/50\n",
      "1562/1562 [==============================] - 99s 64ms/step - loss: 0.4976 - accuracy: 0.8308 - val_loss: 0.5655 - val_accuracy: 0.8148\n",
      "Epoch 11/50\n",
      "1562/1562 [==============================] - 99s 63ms/step - loss: 0.4715 - accuracy: 0.8397 - val_loss: 0.5821 - val_accuracy: 0.8082\n",
      "Epoch 12/50\n",
      "1562/1562 [==============================] - 99s 63ms/step - loss: 0.4557 - accuracy: 0.8457 - val_loss: 0.5499 - val_accuracy: 0.8216\n",
      "Epoch 13/50\n",
      "1562/1562 [==============================] - 99s 63ms/step - loss: 0.4324 - accuracy: 0.8550 - val_loss: 0.5224 - val_accuracy: 0.8290\n",
      "Epoch 14/50\n",
      "1562/1562 [==============================] - 99s 63ms/step - loss: 0.4079 - accuracy: 0.8603 - val_loss: 0.4563 - val_accuracy: 0.8475\n",
      "Epoch 15/50\n",
      "1562/1562 [==============================] - 99s 63ms/step - loss: 0.3983 - accuracy: 0.8629 - val_loss: 0.5567 - val_accuracy: 0.8231\n",
      "Epoch 16/50\n",
      "1562/1562 [==============================] - 98s 63ms/step - loss: 0.3802 - accuracy: 0.8697 - val_loss: 0.5004 - val_accuracy: 0.8369\n",
      "Epoch 17/50\n",
      "1562/1562 [==============================] - 98s 63ms/step - loss: 0.3698 - accuracy: 0.8719 - val_loss: 0.4511 - val_accuracy: 0.8490\n",
      "Epoch 18/50\n",
      "1562/1562 [==============================] - 99s 63ms/step - loss: 0.3518 - accuracy: 0.8789 - val_loss: 0.4279 - val_accuracy: 0.8586\n",
      "Epoch 19/50\n",
      "1562/1562 [==============================] - 99s 63ms/step - loss: 0.3426 - accuracy: 0.8808 - val_loss: 0.4416 - val_accuracy: 0.8539\n",
      "Epoch 20/50\n",
      "1562/1562 [==============================] - 98s 63ms/step - loss: 0.3314 - accuracy: 0.8867 - val_loss: 0.4506 - val_accuracy: 0.8512\n",
      "Epoch 21/50\n",
      "1562/1562 [==============================] - 98s 63ms/step - loss: 0.3166 - accuracy: 0.8897 - val_loss: 0.4497 - val_accuracy: 0.8552\n",
      "Epoch 22/50\n",
      "1562/1562 [==============================] - 99s 63ms/step - loss: 0.3176 - accuracy: 0.8911 - val_loss: 0.4709 - val_accuracy: 0.8524\n",
      "Epoch 23/50\n",
      "1562/1562 [==============================] - 98s 62ms/step - loss: 0.3046 - accuracy: 0.8945 - val_loss: 0.4189 - val_accuracy: 0.8657\n",
      "Epoch 24/50\n",
      "1562/1562 [==============================] - 98s 63ms/step - loss: 0.2996 - accuracy: 0.8966 - val_loss: 0.4073 - val_accuracy: 0.8694\n",
      "Epoch 25/50\n",
      "1562/1562 [==============================] - 99s 63ms/step - loss: 0.2845 - accuracy: 0.9020 - val_loss: 0.4107 - val_accuracy: 0.8664\n",
      "Epoch 26/50\n",
      "1562/1562 [==============================] - 97s 62ms/step - loss: 0.2853 - accuracy: 0.9026 - val_loss: 0.4361 - val_accuracy: 0.8688\n",
      "Epoch 27/50\n",
      "1562/1562 [==============================] - 98s 63ms/step - loss: 0.2735 - accuracy: 0.9062 - val_loss: 0.4356 - val_accuracy: 0.8681\n",
      "Epoch 28/50\n",
      "1562/1562 [==============================] - 99s 63ms/step - loss: 0.2651 - accuracy: 0.9086 - val_loss: 0.4066 - val_accuracy: 0.8724\n",
      "Epoch 29/50\n",
      "1562/1562 [==============================] - 98s 62ms/step - loss: 0.2588 - accuracy: 0.9116 - val_loss: 0.4327 - val_accuracy: 0.8597\n",
      "Epoch 30/50\n",
      "1562/1562 [==============================] - 98s 63ms/step - loss: 0.2606 - accuracy: 0.9108 - val_loss: 0.3995 - val_accuracy: 0.8713\n",
      "Epoch 31/50\n",
      "1562/1562 [==============================] - 98s 63ms/step - loss: 0.2482 - accuracy: 0.9141 - val_loss: 0.4385 - val_accuracy: 0.8681\n",
      "Epoch 32/50\n",
      "1562/1562 [==============================] - 97s 62ms/step - loss: 0.2471 - accuracy: 0.9157 - val_loss: 0.4487 - val_accuracy: 0.8622\n",
      "Epoch 33/50\n",
      "1562/1562 [==============================] - 97s 62ms/step - loss: 0.2393 - accuracy: 0.9183 - val_loss: 0.4079 - val_accuracy: 0.8700\n",
      "Epoch 34/50\n",
      "1562/1562 [==============================] - 98s 63ms/step - loss: 0.2368 - accuracy: 0.9181 - val_loss: 0.4025 - val_accuracy: 0.8750\n",
      "Epoch 35/50\n",
      "1562/1562 [==============================] - 97s 62ms/step - loss: 0.2303 - accuracy: 0.9206 - val_loss: 0.4073 - val_accuracy: 0.8730\n",
      "Epoch 36/50\n",
      "1562/1562 [==============================] - 97s 62ms/step - loss: 0.2243 - accuracy: 0.9225 - val_loss: 0.4401 - val_accuracy: 0.8729\n",
      "Epoch 37/50\n",
      "1562/1562 [==============================] - 97s 62ms/step - loss: 0.2237 - accuracy: 0.9235 - val_loss: 0.4063 - val_accuracy: 0.8753\n",
      "Epoch 38/50\n",
      "1562/1562 [==============================] - 97s 62ms/step - loss: 0.2178 - accuracy: 0.9249 - val_loss: 0.4361 - val_accuracy: 0.8679\n",
      "Epoch 39/50\n",
      "1562/1562 [==============================] - 97s 62ms/step - loss: 0.2099 - accuracy: 0.9281 - val_loss: 0.4647 - val_accuracy: 0.8666\n",
      "Epoch 40/50\n",
      "1562/1562 [==============================] - 97s 62ms/step - loss: 0.2157 - accuracy: 0.9250 - val_loss: 0.4537 - val_accuracy: 0.8707\n",
      "Epoch 41/50\n",
      "1562/1562 [==============================] - 97s 62ms/step - loss: 0.2106 - accuracy: 0.9278 - val_loss: 0.3834 - val_accuracy: 0.8801\n",
      "Epoch 42/50\n",
      "1562/1562 [==============================] - 96s 62ms/step - loss: 0.2033 - accuracy: 0.9296 - val_loss: 0.3899 - val_accuracy: 0.8826\n",
      "Epoch 43/50\n",
      "1562/1562 [==============================] - 97s 62ms/step - loss: 0.2022 - accuracy: 0.9305 - val_loss: 0.4089 - val_accuracy: 0.8837\n",
      "Epoch 44/50\n",
      "1562/1562 [==============================] - 97s 62ms/step - loss: 0.1962 - accuracy: 0.9320 - val_loss: 0.4122 - val_accuracy: 0.8727\n",
      "Epoch 45/50\n",
      "1562/1562 [==============================] - 97s 62ms/step - loss: 0.1979 - accuracy: 0.9326 - val_loss: 0.4057 - val_accuracy: 0.8798\n",
      "Epoch 46/50\n",
      "1562/1562 [==============================] - 97s 62ms/step - loss: 0.1942 - accuracy: 0.9333 - val_loss: 0.4527 - val_accuracy: 0.8672\n",
      "Epoch 47/50\n",
      "1562/1562 [==============================] - 97s 62ms/step - loss: 0.1892 - accuracy: 0.9347 - val_loss: 0.3959 - val_accuracy: 0.8836\n",
      "Epoch 48/50\n",
      "1562/1562 [==============================] - 97s 62ms/step - loss: 0.1893 - accuracy: 0.9361 - val_loss: 0.4361 - val_accuracy: 0.8780\n",
      "Epoch 49/50\n",
      "1562/1562 [==============================] - 97s 62ms/step - loss: 0.1868 - accuracy: 0.9367 - val_loss: 0.4187 - val_accuracy: 0.8831\n",
      "Epoch 50/50\n",
      "1562/1562 [==============================] - 97s 62ms/step - loss: 0.1848 - accuracy: 0.9369 - val_loss: 0.4007 - val_accuracy: 0.8812\n"
     ]
    }
   ],
   "source": [
    "# Fit the model with Data Augmentation\n",
    "# Restart the kernel\n",
    "\n",
    "batch_size = 32\n",
    "data_generator = tf.keras.preprocessing.image.ImageDataGenerator(width_shift_range=0.1, height_shift_range=0.1, horizontal_flip=True)\n",
    "train_generator = data_generator.flow(X_train, Y_train, batch_size)\n",
    "steps_per_epoch = X_train.shape[0] // batch_size\n",
    "r = model.fit_generator(train_generator, validation_data=(X_test, Y_test), steps_per_epoch=steps_per_epoch, epochs=50)"
   ]
  },
  {
   "cell_type": "code",
   "execution_count": 20,
   "metadata": {
    "colab": {
     "base_uri": "https://localhost:8080/",
     "height": 283
    },
    "colab_type": "code",
    "id": "WQTRcHP7i6IR",
    "outputId": "3a6568d1-0670-425c-9004-bd4f3ee3906a"
   },
   "outputs": [
    {
     "data": {
      "text/plain": [
       "<matplotlib.legend.Legend at 0x7f52555a7320>"
      ]
     },
     "execution_count": 20,
     "metadata": {
      "tags": []
     },
     "output_type": "execute_result"
    },
    {
     "data": {
      "image/png": "[encoded data removed]",
      "text/plain": [
       "<Figure size 432x288 with 1 Axes>"
      ]
     },
     "metadata": {
      "tags": []
     },
     "output_type": "display_data"
    }
   ],
   "source": [
    "# Plot of loss per iteration\n",
    "\n",
    "plt.plot(r.history['loss'], label = 'loss')\n",
    "plt.plot(r.history['val_loss'], label = 'val_loss')\n",
    "plt.legend()"
   ]
  },
  {
   "cell_type": "code",
   "execution_count": 21,
   "metadata": {
    "colab": {
     "base_uri": "https://localhost:8080/",
     "height": 283
    },
    "colab_type": "code",
    "id": "hOiAkjOyi8Ga",
    "outputId": "4d5e5f33-156c-47f3-93fb-0d67b84032e8"
   },
   "outputs": [
    {
     "data": {
      "text/plain": [
       "<matplotlib.legend.Legend at 0x7f5254d08b00>"
      ]
     },
     "execution_count": 21,
     "metadata": {
      "tags": []
     },
     "output_type": "execute_result"
    },
    {
     "data": {
      "image/png": "[encoded data removed]",
      "text/plain": [
       "<Figure size 432x288 with 1 Axes>"
      ]
     },
     "metadata": {
      "tags": []
     },
     "output_type": "display_data"
    }
   ],
   "source": [
    "# Plot of accuracy per iteration\n",
    "\n",
    "plt.plot(r.history['accuracy'], label = 'accuracy')\n",
    "plt.plot(r.history['val_accuracy'], label = 'val_accuracy')\n",
    "plt.legend()"
   ]
  },
  {
   "cell_type": "code",
   "execution_count": 23,
   "metadata": {
    "colab": {
     "base_uri": "https://localhost:8080/",
     "height": 511
    },
    "colab_type": "code",
    "id": "QfunS0AxjBMm",
    "outputId": "e50c70e4-7b4a-40c4-8863-3f60061e936a"
   },
   "outputs": [
    {
     "name": "stdout",
     "output_type": "stream",
     "text": [
      "Confusion matrix, without normalization\n",
      "[[909   3  36   8   5   1   5   3  25   5]\n",
      " [  6 941   1   1   0   0   4   0  10  37]\n",
      " [ 22   0 864  35  25  18  31   2   1   2]\n",
      " [ 24   2  35 768  33  61  56  10   3   8]\n",
      " [  6   1  22  32 888  14  30   4   3   0]\n",
      " [  9   1  22 122  30 787  19   5   0   5]\n",
      " [  7   1  22  19   3   0 945   0   1   2]\n",
      " [ 13   0  18  36  34  31   9 848   2   9]\n",
      " [ 37  10   4   5   2   1   5   0 919  17]\n",
      " [ 10  28   1   2   2   0   6   0   8 943]]\n"
     ]
    },
    {
     "data": {
      "image/png": "[encoded data removed]",
      "text/plain": [
       "<Figure size 432x288 with 2 Axes>"
      ]
     },
     "metadata": {
      "tags": []
     },
     "output_type": "display_data"
    }
   ],
   "source": [
    "# Plot confusion matrix\n",
    "from sklearn.metrics import confusion_matrix\n",
    "import itertools\n",
    "\n",
    "def plot_confusion_matrix(cm, classes,\n",
    "                          normalize=False,\n",
    "                          title='Confusion matrix',\n",
    "                          cmap=plt.cm.Blues):\n",
    "  \"\"\"\n",
    "  This function prints and plots the confusion matrix.\n",
    "  Normalization can be applied by setting `normalize=True`.\n",
    "  \"\"\"\n",
    "  if normalize:\n",
    "      cm = cm.astype('float') / cm.sum(axis=1)[:, np.newaxis]\n",
    "      print(\"Normalized confusion matrix\")\n",
    "  else:\n",
    "      print('Confusion matrix, without normalization')\n",
    "\n",
    "  print(cm)\n",
    "\n",
    "  plt.imshow(cm, interpolation='nearest', cmap=cmap)\n",
    "  plt.title(title)\n",
    "  plt.colorbar()\n",
    "  tick_marks = np.arange(len(classes))\n",
    "  plt.xticks(tick_marks, classes, rotation=45)\n",
    "  plt.yticks(tick_marks, classes)\n",
    "\n",
    "  fmt = '.2f' if normalize else 'd'\n",
    "  thresh = cm.max() / 2.\n",
    "  for i, j in itertools.product(range(cm.shape[0]), range(cm.shape[1])):\n",
    "      plt.text(j, i, format(cm[i, j], fmt),\n",
    "               horizontalalignment=\"center\",\n",
    "               color=\"white\" if cm[i, j] > thresh else \"black\")\n",
    "\n",
    "  plt.tight_layout()\n",
    "  plt.ylabel('True label')\n",
    "  plt.xlabel('Predicted label')\n",
    "  plt.show()\n",
    "\n",
    "\n",
    "p_test = model.predict(X_test).argmax(axis=1)\n",
    "cm = confusion_matrix(Y_test, p_test)\n",
    "plot_confusion_matrix(cm, list(range(10)))\n"
   ]
  },
  {
   "cell_type": "code",
   "execution_count": 0,
   "metadata": {
    "colab": {},
    "colab_type": "code",
    "id": "ZxgjGMVS1jVA"
   },
   "outputs": [],
   "source": [
    "# label mapping\n",
    "labels = '''airplane\n",
    "automobile\n",
    "bird\n",
    "cat\n",
    "deer\n",
    "dog\n",
    "frog\n",
    "horse\n",
    "ship\n",
    "truck'''.split()"
   ]
  },
  {
   "cell_type": "code",
   "execution_count": 28,
   "metadata": {
    "colab": {
     "base_uri": "https://localhost:8080/",
     "height": 281
    },
    "colab_type": "code",
    "id": "SU1HzeX_1vnT",
    "outputId": "41da2dfa-ca34-4e6d-8e4d-a84e84c8a111"
   },
   "outputs": [
    {
     "data": {
      "image/png": "[encoded data removed]",
      "text/plain": [
       "<Figure size 432x288 with 1 Axes>"
      ]
     },
     "metadata": {
      "tags": []
     },
     "output_type": "display_data"
    }
   ],
   "source": [
    "# Show some misclassified examples\n",
    "misclassified_idx = np.where(p_test != Y_test)[0]\n",
    "i = np.random.choice(misclassified_idx)\n",
    "plt.imshow(X_test[i], cmap='gray')\n",
    "plt.title(\"True label: %s Predicted: %s\" % (labels[Y_test[i]], labels[p_test[i]]));"
   ]
  },
  {
   "cell_type": "code",
   "execution_count": 0,
   "metadata": {
    "colab": {},
    "colab_type": "code",
    "id": "RgeJqATl1zrh"
   },
   "outputs": [],
   "source": []
  }
 ],
 "metadata": {
  "accelerator": "GPU",
  "colab": {
   "name": "CIFAR IMPROVED.ipynb",
   "provenance": []
  },
  "kernelspec": {
   "display_name": "Python 3",
   "language": "python",
   "name": "python3"
  },
  "language_info": {
   "codemirror_mode": {
    "name": "ipython",
    "version": 3
   },
   "file_extension": ".py",
   "mimetype": "text/x-python",
   "name": "python",
   "nbconvert_exporter": "python",
   "pygments_lexer": "ipython3",
   "version": "3.7.3"
  }
 },
 "nbformat": 4,
 "nbformat_minor": 1
}
